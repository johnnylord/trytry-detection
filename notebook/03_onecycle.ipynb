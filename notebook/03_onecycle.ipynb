{
 "cells": [
  {
   "cell_type": "code",
   "execution_count": 7,
   "id": "apparent-fetish",
   "metadata": {
    "ExecuteTime": {
     "end_time": "2021-06-02T02:18:27.365549Z",
     "start_time": "2021-06-02T02:18:27.128963Z"
    }
   },
   "outputs": [],
   "source": [
    "import torch\n",
    "import torch.nn as nn\n",
    "import torch.optim as optim\n",
    "from torch.optim.lr_scheduler import OneCycleLR\n",
    "\n",
    "import numpy as np\n",
    "import matplotlib.pyplot as plt\n",
    "%matplotlib inline"
   ]
  },
  {
   "cell_type": "code",
   "execution_count": 3,
   "id": "optional-liberty",
   "metadata": {
    "ExecuteTime": {
     "end_time": "2021-06-02T02:15:02.290978Z",
     "start_time": "2021-06-02T02:15:02.287915Z"
    }
   },
   "outputs": [],
   "source": [
    "model = nn.Linear(100, 100)"
   ]
  },
  {
   "cell_type": "code",
   "execution_count": 5,
   "id": "logical-modem",
   "metadata": {
    "ExecuteTime": {
     "end_time": "2021-06-02T02:15:37.794283Z",
     "start_time": "2021-06-02T02:15:37.791866Z"
    }
   },
   "outputs": [],
   "source": [
    "optimizer = optim.Adam(model.parameters(), lr=0.001, weight_decay=0.00001)"
   ]
  },
  {
   "cell_type": "code",
   "execution_count": 13,
   "id": "geographic-maldives",
   "metadata": {
    "ExecuteTime": {
     "end_time": "2021-06-02T02:19:25.084902Z",
     "start_time": "2021-06-02T02:19:25.082474Z"
    }
   },
   "outputs": [],
   "source": [
    "scheduler = OneCycleLR(optimizer, max_lr=0.001, epochs=10, steps_per_epoch=100, anneal_strategy='cos')"
   ]
  },
  {
   "cell_type": "code",
   "execution_count": 14,
   "id": "alert-purchase",
   "metadata": {
    "ExecuteTime": {
     "end_time": "2021-06-02T02:19:25.840660Z",
     "start_time": "2021-06-02T02:19:25.711421Z"
    }
   },
   "outputs": [],
   "source": [
    "lrs = []\n",
    "for i in range(10*100):\n",
    "    lrs.append(optimizer.param_groups[0]['lr'])\n",
    "    x = torch.rand(1, 100)\n",
    "    \n",
    "    optimizer.zero_grad()\n",
    "    y = model(x)\n",
    "    loss = y.mean()\n",
    "    optimizer.step()\n",
    "    scheduler.step()"
   ]
  },
  {
   "cell_type": "code",
   "execution_count": 15,
   "id": "figured-supervision",
   "metadata": {
    "ExecuteTime": {
     "end_time": "2021-06-02T02:19:25.955131Z",
     "start_time": "2021-06-02T02:19:25.862362Z"
    }
   },
   "outputs": [
    {
     "data": {
      "text/plain": [
       "[<matplotlib.lines.Line2D at 0x7fe51734c630>]"
      ]
     },
     "execution_count": 15,
     "metadata": {},
     "output_type": "execute_result"
    },
    {
     "data": {
      "image/png": "[encoded data removed]",
      "text/plain": [
       "<Figure size 432x288 with 1 Axes>"
      ]
     },
     "metadata": {
      "needs_background": "light"
     },
     "output_type": "display_data"
    }
   ],
   "source": [
    "plt.plot(np.arange(len(lrs)), lrs)"
   ]
  }
 ],
 "metadata": {
  "hide_input": false,
  "kernelspec": {
   "display_name": "Python 3",
   "language": "python",
   "name": "python3"
  },
  "language_info": {
   "codemirror_mode": {
    "name": "ipython",
    "version": 3
   },
   "file_extension": ".py",
   "mimetype": "text/x-python",
   "name": "python",
   "nbconvert_exporter": "python",
   "pygments_lexer": "ipython3",
   "version": "3.7.1"
  },
  "toc": {
   "base_numbering": 1,
   "nav_menu": {},
   "number_sections": true,
   "sideBar": true,
   "skip_h1_title": false,
   "title_cell": "Table of Contents",
   "title_sidebar": "Contents",
   "toc_cell": false,
   "toc_position": {},
   "toc_section_display": true,
   "toc_window_display": false
  },
  "varInspector": {
   "cols": {
    "lenName": 16,
    "lenType": 16,
    "lenVar": 40
   },
   "kernels_config": {
    "python": {
     "delete_cmd_postfix": "",
     "delete_cmd_prefix": "del ",
     "library": "var_list.py",
     "varRefreshCmd": "print(var_dic_list())"
    },
    "r": {
     "delete_cmd_postfix": ") ",
     "delete_cmd_prefix": "rm(",
     "library": "var_list.r",
     "varRefreshCmd": "cat(var_dic_list()) "
    }
   },
   "types_to_exclude": [
    "module",
    "function",
    "builtin_function_or_method",
    "instance",
    "_Feature"
   ],
   "window_display": false
  }
 },
 "nbformat": 4,
 "nbformat_minor": 5
}
