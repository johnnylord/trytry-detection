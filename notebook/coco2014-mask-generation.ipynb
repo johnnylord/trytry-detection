{
 "cells": [
  {
   "cell_type": "code",
   "execution_count": 1,
   "id": "enormous-edinburgh",
   "metadata": {
    "ExecuteTime": {
     "end_time": "2021-06-04T04:26:58.159568Z",
     "start_time": "2021-06-04T04:26:57.522134Z"
    }
   },
   "outputs": [],
   "source": [
    "import os\n",
    "import os.path as osp\n",
    "\n",
    "import torch\n",
    "import random\n",
    "import numpy as np\n",
    "import matplotlib.pyplot as plt\n",
    "%matplotlib inline\n",
    "\n",
    "from PIL import Image \n",
    "from pycocotools.coco import COCO\n",
    "from pycocotools.mask import encode, decode, area, toBbox"
   ]
  },
  {
   "cell_type": "markdown",
   "id": "tamil-memphis",
   "metadata": {},
   "source": [
    "## Sanity Checks\n",
    "\n",
    "Make sure data downloaded from the Kaggle is the same as data provided on official COCO website."
   ]
  },
  {
   "cell_type": "code",
   "execution_count": 2,
   "id": "binding-cross",
   "metadata": {
    "ExecuteTime": {
     "end_time": "2021-06-04T04:26:58.415615Z",
     "start_time": "2021-06-04T04:26:58.161408Z"
    }
   },
   "outputs": [
    {
     "name": "stdout",
     "output_type": "stream",
     "text": [
      "IMAGES: (82783, 40504)\n",
      "ANNOTS: (82081, 40137)\n",
      "===============================\n",
      "TRAIN: 117264\n",
      "TEST: 4954\n"
     ]
    }
   ],
   "source": [
    "def count_kaggle_images():\n",
    "    files = os.listdir(\"../download/COCO/images/\")\n",
    "    train_images = [ f for f in files if 'train' in f ]\n",
    "    valid_images = [ f for f in files if 'val' in f ]\n",
    "    return len(train_images), len(valid_images)\n",
    "\n",
    "def count_kaggle_annots():\n",
    "    files = os.listdir(\"../download/COCO/labels/\")\n",
    "    train_labels = [ f for f in files if 'train' in f ]\n",
    "    valid_labels = [ f for f in files if 'val' in f ]\n",
    "    return len(train_labels), len(valid_labels)\n",
    "\n",
    "def count_train_split():\n",
    "    imgs = []\n",
    "    labels = []\n",
    "    with open(\"../download/COCO/train.csv\", 'r') as f:\n",
    "        lines = f.readlines()\n",
    "        for line in lines:\n",
    "            img, label = line.split(',')\n",
    "            imgs.append(img)\n",
    "            labels.append(label)\n",
    "    return len(lines)\n",
    "\n",
    "def count_test_split():\n",
    "    imgs = []\n",
    "    labels = []\n",
    "    with open(\"../download/COCO/test.csv\", 'r') as f:\n",
    "        lines = f.readlines()\n",
    "        for line in lines:\n",
    "            img, label = line.split(',')\n",
    "            imgs.append(img)\n",
    "            labels.append(label)\n",
    "    return len(lines)\n",
    "\n",
    "\n",
    "print(\"IMAGES:\", count_kaggle_images())\n",
    "print(\"ANNOTS:\", count_kaggle_annots())\n",
    "print(\"===============================\")\n",
    "print(\"TRAIN:\", count_train_split())\n",
    "print(\"TEST:\", count_test_split())"
   ]
  },
  {
   "cell_type": "markdown",
   "id": "vocational-wallpaper",
   "metadata": {},
   "source": [
    "## Export Instance Segmentation Masks"
   ]
  },
  {
   "cell_type": "code",
   "execution_count": 53,
   "id": "traditional-durham",
   "metadata": {
    "ExecuteTime": {
     "end_time": "2021-06-04T06:39:49.851068Z",
     "start_time": "2021-06-04T06:21:05.103827Z"
    },
    "scrolled": true
   },
   "outputs": [
    {
     "name": "stdout",
     "output_type": "stream",
     "text": [
      "loading annotations into memory...\n",
      "Done (t=5.12s)\n",
      "creating index...\n",
      "index created!\n"
     ]
    }
   ],
   "source": [
    "def export_instance_masks(annFile, output_dir):\n",
    "    # Create directory Structure\n",
    "    if not osp.exists(output_dir):\n",
    "        os.makedirs(output_dir)\n",
    "        \n",
    "    # Read annotation file\n",
    "    coco = COCO(annFile)\n",
    "    \n",
    "    # Process all images\n",
    "    imgIds = coco.getImgIds()\n",
    "    for image_id in imgIds:\n",
    "        # Get Image name\n",
    "        image_metadata = coco.loadImgs(ids=[image_id])[0]\n",
    "        image_file = image_metadata['file_name']\n",
    "        \n",
    "        # Create Subdirectory\n",
    "        subdir = osp.join(output_dir, image_file)\n",
    "        if not osp.exists(subdir):\n",
    "            os.makedirs(subdir)\n",
    "            \n",
    "        annIds = coco.getAnnIds(imgIds=[image_id])\n",
    "        annots = coco.loadAnns(annIds)\n",
    "        mask_count = 0\n",
    "        for annot in annots:\n",
    "            if annot['iscrowd']:\n",
    "                continue\n",
    "            # Construct binary mask\n",
    "            mask = coco.annToMask(annot)\n",
    "            img = Image.fromarray(np.uint8(mask*255), 'L')\n",
    "            # Construct bounding box\n",
    "            img_width, img_height = image_metadata['width'], image_metadata['height']\n",
    "            bbox = annot['bbox']\n",
    "            cx = (bbox[0] + bbox[2])/2\n",
    "            cy = (bbox[1] + bbox[3])/2\n",
    "            normalized = [ \n",
    "                cx/img_width,\n",
    "                cy/img_height,\n",
    "                bbox[2]/img_width,\n",
    "                bbox[3]/img_height\n",
    "                ]\n",
    "            normalized.insert(0, ann['category_id']-1)\n",
    "            # Export mask & bbox\n",
    "            prefix, suffix = image_file.split(\".\") # E.g. COCO_val2014_000000184613.jpg\n",
    "            mask_name = f\"{prefix}_mask_{mask_count}.{suffix}\"\n",
    "            bbox_name = f\"{prefix}_mask_{mask_count}.txt\"\n",
    "            img.save(osp.join(subdir, mask_name))\n",
    "            with open(osp.join(subdir, bbox_name), 'w') as f:\n",
    "                fields = [ str(v) for v in normalized ]\n",
    "                fields[0] = str(int(normalized[0]))\n",
    "                f.write(\" \".join(fields))\n",
    "            mask_count += 1\n",
    "    \n",
    "export_instance_masks(\"annotations/instances_val2014.json\", \"../download/COCO/masks\")"
   ]
  },
  {
   "cell_type": "code",
   "execution_count": 54,
   "id": "offensive-geology",
   "metadata": {
    "ExecuteTime": {
     "end_time": "2021-06-04T07:18:14.945658Z",
     "start_time": "2021-06-04T06:39:49.875509Z"
    }
   },
   "outputs": [
    {
     "name": "stdout",
     "output_type": "stream",
     "text": [
      "loading annotations into memory...\n",
      "Done (t=10.33s)\n",
      "creating index...\n",
      "index created!\n"
     ]
    }
   ],
   "source": [
    "export_instance_masks(\"annotations/instances_train2014.json\", \"../download/COCO/masks\")"
   ]
  }
 ],
 "metadata": {
  "hide_input": false,
  "kernelspec": {
   "display_name": "Python 3",
   "language": "python",
   "name": "python3"
  },
  "language_info": {
   "codemirror_mode": {
    "name": "ipython",
    "version": 3
   },
   "file_extension": ".py",
   "mimetype": "text/x-python",
   "name": "python",
   "nbconvert_exporter": "python",
   "pygments_lexer": "ipython3",
   "version": "3.7.1"
  },
  "toc": {
   "base_numbering": 1,
   "nav_menu": {},
   "number_sections": true,
   "sideBar": true,
   "skip_h1_title": false,
   "title_cell": "Table of Contents",
   "title_sidebar": "Contents",
   "toc_cell": false,
   "toc_position": {},
   "toc_section_display": true,
   "toc_window_display": false
  },
  "varInspector": {
   "cols": {
    "lenName": 16,
    "lenType": 16,
    "lenVar": 40
   },
   "kernels_config": {
    "python": {
     "delete_cmd_postfix": "",
     "delete_cmd_prefix": "del ",
     "library": "var_list.py",
     "varRefreshCmd": "print(var_dic_list())"
    },
    "r": {
     "delete_cmd_postfix": ") ",
     "delete_cmd_prefix": "rm(",
     "library": "var_list.r",
     "varRefreshCmd": "cat(var_dic_list()) "
    }
   },
   "types_to_exclude": [
    "module",
    "function",
    "builtin_function_or_method",
    "instance",
    "_Feature"
   ],
   "window_display": false
  }
 },
 "nbformat": 4,
 "nbformat_minor": 5
}
