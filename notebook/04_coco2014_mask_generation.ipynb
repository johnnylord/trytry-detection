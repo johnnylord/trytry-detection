{
 "cells": [
  {
   "cell_type": "code",
   "execution_count": 1,
   "id": "enormous-edinburgh",
   "metadata": {
    "ExecuteTime": {
     "end_time": "2021-06-13T08:24:14.144415Z",
     "start_time": "2021-06-13T08:24:13.179089Z"
    }
   },
   "outputs": [],
   "source": [
    "import os\n",
    "import os.path as osp\n",
    "import sys\n",
    "sys.path.insert(0, osp.dirname(osp.abspath('.')))\n",
    "\n",
    "import torch\n",
    "import random\n",
    "import numpy as np\n",
    "import matplotlib.pyplot as plt\n",
    "%matplotlib inline\n",
    "\n",
    "from data.dataset import COCO_CLASSES\n",
    "\n",
    "from PIL import Image \n",
    "from pycocotools.coco import COCO\n",
    "from pycocotools.mask import encode, decode, area, toBbox"
   ]
  },
  {
   "cell_type": "markdown",
   "id": "tamil-memphis",
   "metadata": {},
   "source": [
    "## Sanity Checks\n",
    "\n",
    "Make sure data downloaded from the Kaggle is the same as data provided on official COCO website."
   ]
  },
  {
   "cell_type": "code",
   "execution_count": 2,
   "id": "binding-cross",
   "metadata": {
    "ExecuteTime": {
     "end_time": "2021-06-13T08:24:14.396661Z",
     "start_time": "2021-06-13T08:24:14.147506Z"
    }
   },
   "outputs": [
    {
     "name": "stdout",
     "output_type": "stream",
     "text": [
      "IMAGES: (82783, 40504)\n",
      "ANNOTS: (82081, 40137)\n",
      "===============================\n",
      "TRAIN: 117264\n",
      "TEST: 4954\n"
     ]
    }
   ],
   "source": [
    "def count_kaggle_images():\n",
    "    files = os.listdir(\"../download/COCO/images/\")\n",
    "    train_images = [ f for f in files if 'train' in f ]\n",
    "    valid_images = [ f for f in files if 'val' in f ]\n",
    "    return len(train_images), len(valid_images)\n",
    "\n",
    "def count_kaggle_annots():\n",
    "    files = os.listdir(\"../download/COCO/labels/\")\n",
    "    train_labels = [ f for f in files if 'train' in f ]\n",
    "    valid_labels = [ f for f in files if 'val' in f ]\n",
    "    return len(train_labels), len(valid_labels)\n",
    "\n",
    "def count_train_split():\n",
    "    imgs = []\n",
    "    labels = []\n",
    "    with open(\"../download/COCO/train.csv\", 'r') as f:\n",
    "        lines = f.readlines()\n",
    "        for line in lines:\n",
    "            img, label = line.split(',')\n",
    "            imgs.append(img)\n",
    "            labels.append(label)\n",
    "    return len(lines)\n",
    "\n",
    "def count_test_split():\n",
    "    imgs = []\n",
    "    labels = []\n",
    "    with open(\"../download/COCO/test.csv\", 'r') as f:\n",
    "        lines = f.readlines()\n",
    "        for line in lines:\n",
    "            img, label = line.split(',')\n",
    "            imgs.append(img)\n",
    "            labels.append(label)\n",
    "    return len(lines)\n",
    "\n",
    "\n",
    "print(\"IMAGES:\", count_kaggle_images())\n",
    "print(\"ANNOTS:\", count_kaggle_annots())\n",
    "print(\"===============================\")\n",
    "print(\"TRAIN:\", count_train_split())\n",
    "print(\"TEST:\", count_test_split())"
   ]
  },
  {
   "cell_type": "markdown",
   "id": "vocational-wallpaper",
   "metadata": {},
   "source": [
    "## Export Instance Segmentation Masks"
   ]
  },
  {
   "cell_type": "code",
   "execution_count": 3,
   "id": "increased-shell",
   "metadata": {
    "ExecuteTime": {
     "end_time": "2021-06-13T08:24:14.403159Z",
     "start_time": "2021-06-13T08:24:14.399898Z"
    }
   },
   "outputs": [
    {
     "name": "stdout",
     "output_type": "stream",
     "text": [
      "[0, 1, 2]\n",
      "[3, 4, 5]\n",
      "[6, 7, 8, 9]\n"
     ]
    }
   ],
   "source": [
    "Ids = list(range(10))\n",
    "\n",
    "n_tasks = 3\n",
    "n_loads = len(Ids)//n_tasks\n",
    "\n",
    "for i in range(n_tasks):\n",
    "    if i == n_tasks - 1:\n",
    "        print(Ids[i*n_loads:])\n",
    "    else:\n",
    "        print(Ids[i*n_loads:i*n_loads+n_loads])"
   ]
  },
  {
   "cell_type": "code",
   "execution_count": 4,
   "id": "scenic-bulletin",
   "metadata": {
    "ExecuteTime": {
     "end_time": "2021-06-13T08:24:14.405935Z",
     "start_time": "2021-06-13T08:24:14.404196Z"
    }
   },
   "outputs": [],
   "source": [
    "a = 1.134 \n"
   ]
  },
  {
   "cell_type": "code",
   "execution_count": 5,
   "id": "backed-canberra",
   "metadata": {
    "ExecuteTime": {
     "end_time": "2021-06-13T08:24:14.410809Z",
     "start_time": "2021-06-13T08:24:14.407000Z"
    }
   },
   "outputs": [
    {
     "data": {
      "text/plain": [
       "1.13"
      ]
     },
     "execution_count": 5,
     "metadata": {},
     "output_type": "execute_result"
    }
   ],
   "source": [
    "round(a, ndigits=2)"
   ]
  },
  {
   "cell_type": "code",
   "execution_count": 6,
   "id": "traditional-durham",
   "metadata": {
    "ExecuteTime": {
     "end_time": "2021-06-13T08:24:14.422328Z",
     "start_time": "2021-06-13T08:24:14.411848Z"
    },
    "scrolled": true
   },
   "outputs": [],
   "source": [
    "from multiprocessing import Process\n",
    "\n",
    "def export_worker(coco, output_dir, imgIds):\n",
    "    for image_id in imgIds:\n",
    "        # Get Image name\n",
    "        image_metadata = coco.loadImgs(ids=[image_id])[0]\n",
    "        image_file = image_metadata['file_name']\n",
    "        \n",
    "        # Create Subdirectory\n",
    "        subdir = osp.join(output_dir, image_file)\n",
    "        if not osp.exists(subdir):\n",
    "            os.makedirs(subdir)\n",
    "            \n",
    "        annIds = coco.getAnnIds(imgIds=[image_id])\n",
    "        annots = coco.loadAnns(annIds)\n",
    "        mask_count = 0\n",
    "        for annot in annots:\n",
    "            if annot['iscrowd']:\n",
    "                continue\n",
    "            # Construct binary mask\n",
    "            mask = coco.annToMask(annot)\n",
    "            img = Image.fromarray(np.uint8(mask*255), 'L')\n",
    "            # Construct bounding box\n",
    "            img_width, img_height = image_metadata['width'], image_metadata['height']\n",
    "            bbox = annot['bbox']\n",
    "            cx = max([bbox[0]+(bbox[2]/2)-1, 0.0])\n",
    "            cy = max([bbox[1]+(bbox[3]/2)-1, 0.0])\n",
    "            normalized = [ \n",
    "                cx/img_width,\n",
    "                cy/img_height,\n",
    "                min([bbox[2]/img_width, 1.0]),\n",
    "                min([bbox[3]/img_height, 1.0]),\n",
    "                ]\n",
    "            cat = coco.loadCats(ids=[annot['category_id']])[0]\n",
    "            cls = COCO_CLASSES.index(cat['name'])\n",
    "            normalized.insert(0, cls)\n",
    "            \n",
    "            if (\n",
    "                (abs(\n",
    "                    round(normalized[1]-(normalized[3]/2), ndigits=5)\n",
    "                    - round(normalized[1]+(normalized[3]/2), ndigits=5)\n",
    "                ) < 0.01) \n",
    "                or \n",
    "                (abs(\n",
    "                    round(normalized[2]-(normalized[4]/2), ndigits=5)\n",
    "                    - round(normalized[2]+(normalized[4]/2), ndigits=5)\n",
    "                ) < 0.01)\n",
    "            ):\n",
    "                continue\n",
    "\n",
    "            # Export mask\n",
    "            prefix, suffix = image_file.split(\".\") # E.g. COCO_val2014_000000184613.jpg\n",
    "            mask_name = f\"{prefix}_mask_{mask_count}.{suffix}\"\n",
    "            img.save(osp.join(subdir, mask_name))\n",
    "            # Export bbox\n",
    "            bbox_name = f\"{prefix}_mask_{mask_count}.txt\"\n",
    "            with open(osp.join(subdir, bbox_name), 'w') as f:\n",
    "                fields = [ str(v) for v in normalized ]\n",
    "                fields[0] = str(int(normalized[0]))\n",
    "                f.write(\" \".join(fields))\n",
    "            mask_count += 1\n",
    "            \n",
    "def export_instance_masks(annFile, output_dir):\n",
    "    # Create directory Structure\n",
    "    if not osp.exists(output_dir):\n",
    "        os.makedirs(output_dir)\n",
    "        \n",
    "    # Read annotation file\n",
    "    coco = COCO(annFile)\n",
    "    \n",
    "    # Process all images\n",
    "    imgIds = coco.getImgIds()\n",
    "\n",
    "    procs = []\n",
    "    n_tasks = 64\n",
    "    n_loads = len(imgIds)//n_tasks\n",
    "    for i in range(n_tasks):\n",
    "        if i == (n_tasks-1):\n",
    "            subIds = imgIds[i*n_loads:]\n",
    "        else:\n",
    "            subIds = imgIds[i*n_loads:i*n_loads+n_loads]\n",
    "        proc = Process(target=export_worker, args=(coco, output_dir, subIds))\n",
    "        proc.start()\n",
    "        procs.append(proc)\n",
    "    \n",
    "    for proc in procs:\n",
    "        proc.join()"
   ]
  },
  {
   "cell_type": "code",
   "execution_count": 7,
   "id": "offensive-geology",
   "metadata": {
    "ExecuteTime": {
     "end_time": "2021-06-13T08:25:05.527089Z",
     "start_time": "2021-06-13T08:24:14.424016Z"
    }
   },
   "outputs": [
    {
     "name": "stdout",
     "output_type": "stream",
     "text": [
      "loading annotations into memory...\n",
      "Done (t=4.89s)\n",
      "creating index...\n",
      "index created!\n"
     ]
    }
   ],
   "source": [
    "export_instance_masks(\"annotations/instances_val2014.json\", \"../download/COCO/masks\")"
   ]
  },
  {
   "cell_type": "code",
   "execution_count": 8,
   "id": "surprising-progress",
   "metadata": {
    "ExecuteTime": {
     "end_time": "2021-06-13T08:26:52.372636Z",
     "start_time": "2021-06-13T08:25:05.534776Z"
    }
   },
   "outputs": [
    {
     "name": "stdout",
     "output_type": "stream",
     "text": [
      "loading annotations into memory...\n",
      "Done (t=10.53s)\n",
      "creating index...\n",
      "index created!\n"
     ]
    }
   ],
   "source": [
    "export_instance_masks(\"annotations/instances_train2014.json\", \"../download/COCO/masks\")"
   ]
  }
 ],
 "metadata": {
  "hide_input": false,
  "kernelspec": {
   "display_name": "Python 3",
   "language": "python",
   "name": "python3"
  },
  "language_info": {
   "codemirror_mode": {
    "name": "ipython",
    "version": 3
   },
   "file_extension": ".py",
   "mimetype": "text/x-python",
   "name": "python",
   "nbconvert_exporter": "python",
   "pygments_lexer": "ipython3",
   "version": "3.7.1"
  },
  "toc": {
   "base_numbering": 1,
   "nav_menu": {},
   "number_sections": true,
   "sideBar": true,
   "skip_h1_title": false,
   "title_cell": "Table of Contents",
   "title_sidebar": "Contents",
   "toc_cell": false,
   "toc_position": {},
   "toc_section_display": true,
   "toc_window_display": false
  },
  "varInspector": {
   "cols": {
    "lenName": 16,
    "lenType": 16,
    "lenVar": 40
   },
   "kernels_config": {
    "python": {
     "delete_cmd_postfix": "",
     "delete_cmd_prefix": "del ",
     "library": "var_list.py",
     "varRefreshCmd": "print(var_dic_list())"
    },
    "r": {
     "delete_cmd_postfix": ") ",
     "delete_cmd_prefix": "rm(",
     "library": "var_list.r",
     "varRefreshCmd": "cat(var_dic_list()) "
    }
   },
   "types_to_exclude": [
    "module",
    "function",
    "builtin_function_or_method",
    "instance",
    "_Feature"
   ],
   "window_display": false
  }
 },
 "nbformat": 4,
 "nbformat_minor": 5
}
