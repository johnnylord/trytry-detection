{
 "cells": [
  {
   "cell_type": "code",
   "execution_count": 1,
   "id": "tender-division",
   "metadata": {
    "ExecuteTime": {
     "end_time": "2021-04-03T13:45:16.257646Z",
     "start_time": "2021-04-03T13:45:16.252716Z"
    }
   },
   "outputs": [],
   "source": [
    "import os\n",
    "import os.path as osp\n",
    "import sys\n",
    "sys.path.insert(0, osp.dirname(osp.abspath('.')))"
   ]
  },
  {
   "cell_type": "code",
   "execution_count": 2,
   "id": "packed-amazon",
   "metadata": {
    "ExecuteTime": {
     "end_time": "2021-04-03T13:45:17.595700Z",
     "start_time": "2021-04-03T13:45:16.261058Z"
    }
   },
   "outputs": [],
   "source": [
    "import torch\n",
    "from torch.utils.data import DataLoader\n",
    "\n",
    "from data.dataset import YOLODataset, PASCAL_CLASSES\n",
    "from data.transform import get_yolo_transform\n",
    "from loss.yolo import bbox_iou\n",
    "\n",
    "from utils.convert import cells_to_bboxes\n",
    "from utils.cleanup import non_max_suppression as nms\n",
    "from utils.display import plot_image\n",
    "\n",
    "%load_ext autoreload\n",
    "%autoreload 2"
   ]
  },
  {
   "cell_type": "code",
   "execution_count": 3,
   "id": "stupid-export",
   "metadata": {
    "ExecuteTime": {
     "end_time": "2021-04-03T13:45:17.612275Z",
     "start_time": "2021-04-03T13:45:17.597557Z"
    }
   },
   "outputs": [],
   "source": [
    "CSV_PATH = \"../download/PASCAL_VOC/test.csv\"\n",
    "IMG_DIR = \"../download/PASCAL_VOC/images/\"\n",
    "LABEL_DIR = \"../download/PASCAL_VOC/labels/\""
   ]
  },
  {
   "cell_type": "code",
   "execution_count": 4,
   "id": "realistic-output",
   "metadata": {
    "ExecuteTime": {
     "end_time": "2021-04-03T13:45:17.628076Z",
     "start_time": "2021-04-03T13:45:17.613736Z"
    }
   },
   "outputs": [],
   "source": [
    "IMG_SIZE = 416\n",
    "SCALES = [13, 26, 52]\n",
    "ANCHORS = [\n",
    "    [(0.28, 0.22), (0.38, 0.48), (0.9, 0.78)],\n",
    "    [(0.07, 0.15), (0.15, 0.11), (0.14, 0.29)],\n",
    "    [(0.02, 0.03), (0.04, 0.07), (0.08, 0.06)],\n",
    "] # (3, 3, 2)"
   ]
  },
  {
   "cell_type": "code",
   "execution_count": 5,
   "id": "better-cancellation",
   "metadata": {
    "ExecuteTime": {
     "end_time": "2021-04-03T13:45:17.652537Z",
     "start_time": "2021-04-03T13:45:17.629306Z"
    }
   },
   "outputs": [],
   "source": [
    "transform = get_yolo_transform(img_size=IMG_SIZE, mode='test')\n",
    "dataset = YOLODataset(csv_file=CSV_PATH,\n",
    "                      img_dir=IMG_DIR,\n",
    "                      label_dir=LABEL_DIR,\n",
    "                      anchors=ANCHORS,\n",
    "                      transform=transform)\n",
    "dataloader = DataLoader(dataset,\n",
    "                        batch_size=8,\n",
    "                        shuffle=False)\n",
    "\n",
    "scaled_anchors = torch.tensor(ANCHORS)*torch.tensor(SCALES).unsqueeze(1).unsqueeze(1).repeat(1, 3, 2)"
   ]
  },
  {
   "cell_type": "code",
   "execution_count": 6,
   "id": "powerful-massage",
   "metadata": {
    "ExecuteTime": {
     "end_time": "2021-04-03T13:45:17.769850Z",
     "start_time": "2021-04-03T13:45:17.653598Z"
    }
   },
   "outputs": [],
   "source": [
    "imgs, targets = next(iter(dataloader))\n",
    "\n",
    "pred = targets[0]\n",
    "target = targets[0]\n",
    "target_scale = SCALES[0]\n",
    "target_anchor = scaled_anchors[0]"
   ]
  },
  {
   "cell_type": "code",
   "execution_count": 7,
   "id": "gentle-editing",
   "metadata": {
    "ExecuteTime": {
     "end_time": "2021-04-03T13:45:17.790774Z",
     "start_time": "2021-04-03T13:45:17.771523Z"
    }
   },
   "outputs": [],
   "source": [
    "bboxes = cells_to_bboxes(target,\n",
    "                        scale=target_scale,\n",
    "                        anchors=target_anchor,\n",
    "                        is_preds=False).reshape(-1, 6)"
   ]
  },
  {
   "cell_type": "code",
   "execution_count": 8,
   "id": "random-silly",
   "metadata": {
    "ExecuteTime": {
     "end_time": "2021-04-03T13:45:17.807583Z",
     "start_time": "2021-04-03T13:45:17.791952Z"
    }
   },
   "outputs": [],
   "source": [
    "obj_mask = bboxes[..., 1] == 1.\n",
    "filtered = bboxes[..., 2:][obj_mask]"
   ]
  },
  {
   "cell_type": "code",
   "execution_count": 14,
   "id": "molecular-latest",
   "metadata": {
    "ExecuteTime": {
     "end_time": "2021-04-03T13:45:40.772545Z",
     "start_time": "2021-04-03T13:45:40.755222Z"
    }
   },
   "outputs": [
    {
     "data": {
      "text/plain": [
       "tensor([[1.],\n",
       "        [1.],\n",
       "        [1.],\n",
       "        [1.],\n",
       "        [1.],\n",
       "        [1.],\n",
       "        [1.],\n",
       "        [1.],\n",
       "        [1.],\n",
       "        [1.],\n",
       "        [1.],\n",
       "        [1.],\n",
       "        [1.],\n",
       "        [1.],\n",
       "        [1.],\n",
       "        [1.],\n",
       "        [1.],\n",
       "        [1.],\n",
       "        [1.]])"
      ]
     },
     "execution_count": 14,
     "metadata": {},
     "output_type": "execute_result"
    }
   ],
   "source": [
    "bbox_iou(filtered, filtered, mode='giou')"
   ]
  },
  {
   "cell_type": "code",
   "execution_count": null,
   "id": "impossible-pepper",
   "metadata": {},
   "outputs": [],
   "source": []
  }
 ],
 "metadata": {
  "hide_input": false,
  "kernelspec": {
   "display_name": "Python 3",
   "language": "python",
   "name": "python3"
  },
  "language_info": {
   "codemirror_mode": {
    "name": "ipython",
    "version": 3
   },
   "file_extension": ".py",
   "mimetype": "text/x-python",
   "name": "python",
   "nbconvert_exporter": "python",
   "pygments_lexer": "ipython3",
   "version": "3.7.1"
  },
  "toc": {
   "base_numbering": 1,
   "nav_menu": {},
   "number_sections": true,
   "sideBar": true,
   "skip_h1_title": false,
   "title_cell": "Table of Contents",
   "title_sidebar": "Contents",
   "toc_cell": false,
   "toc_position": {},
   "toc_section_display": true,
   "toc_window_display": false
  },
  "varInspector": {
   "cols": {
    "lenName": 16,
    "lenType": 16,
    "lenVar": 40
   },
   "kernels_config": {
    "python": {
     "delete_cmd_postfix": "",
     "delete_cmd_prefix": "del ",
     "library": "var_list.py",
     "varRefreshCmd": "print(var_dic_list())"
    },
    "r": {
     "delete_cmd_postfix": ") ",
     "delete_cmd_prefix": "rm(",
     "library": "var_list.r",
     "varRefreshCmd": "cat(var_dic_list()) "
    }
   },
   "types_to_exclude": [
    "module",
    "function",
    "builtin_function_or_method",
    "instance",
    "_Feature"
   ],
   "window_display": false
  }
 },
 "nbformat": 4,
 "nbformat_minor": 5
}
